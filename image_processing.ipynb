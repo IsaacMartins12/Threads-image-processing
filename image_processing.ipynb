{
 "cells": [
  {
   "cell_type": "markdown",
   "metadata": {},
   "source": [
    "<h3> TIME OPTIMIZATION TECHNIQUES IN IMAGE PROCESSING </h3>"
   ]
  },
  {
   "cell_type": "markdown",
   "metadata": {},
   "source": [
    "<h4> Importing libraries </h4>"
   ]
  },
  {
   "cell_type": "code",
   "execution_count": 18,
   "metadata": {},
   "outputs": [],
   "source": [
    "import os\n",
    "import cv2\n",
    "import time\n",
    "from concurrent.futures import ThreadPoolExecutor"
   ]
  },
  {
   "cell_type": "markdown",
   "metadata": {},
   "source": [
    "<h4> Declaring the paths </h4>"
   ]
  },
  {
   "cell_type": "code",
   "execution_count": 6,
   "metadata": {},
   "outputs": [],
   "source": [
    "image_path = \"dataset_gato_cachorro/dataset/training_set/cachorro\"\n",
    "output_dir = \"data_processed\""
   ]
  },
  {
   "cell_type": "markdown",
   "metadata": {},
   "source": [
    "<h4> Checking and creating directories </h4>"
   ]
  },
  {
   "cell_type": "code",
   "execution_count": 7,
   "metadata": {},
   "outputs": [],
   "source": [
    "def check_diretory() :\n",
    "\n",
    " if not os.path.exists(output_dir):\n",
    "        \n",
    "    os.makedirs(output_dir)\n",
    "\n",
    " image_paths = [os.path.join(image_path, fname) for fname in os.listdir(image_path) if fname.endswith(('.png', '.jpg', '.jpeg'))]\n",
    "\n",
    " return image_paths"
   ]
  },
  {
   "cell_type": "markdown",
   "metadata": {},
   "source": [
    "<h4>Function to process an image</h4>"
   ]
  },
  {
   "cell_type": "code",
   "execution_count": 8,
   "metadata": {},
   "outputs": [],
   "source": [
    "def process_image(output_dir,image_path):\n",
    "\n",
    " try:\n",
    "        img = cv2.imread(image_path)\n",
    "        if img is None:\n",
    "            raise ValueError(\"Could not open or find the image\")\n",
    "        gray_img = cv2.cvtColor(img, cv2.COLOR_BGR2GRAY)\n",
    "        output_dir = os.path.join(output_dir, os.path.basename(image_path))\n",
    "        cv2.imwrite(output_dir, gray_img)\n",
    "\n",
    " except Exception as e:\n",
    "        print(f\"Failed to process {image_path}: {e}\")"
   ]
  },
  {
   "cell_type": "markdown",
   "metadata": {},
   "source": [
    "<h4>Main without concurrence</h4>"
   ]
  },
  {
   "cell_type": "code",
   "execution_count": 19,
   "metadata": {},
   "outputs": [],
   "source": [
    "def main_without_concurrence():\n",
    "\n",
    "    image_paths = check_diretory()\n",
    "\n",
    "    start_time = time.time()\n",
    "\n",
    "    print(\"Generating images ...\")\n",
    "    \n",
    "    for image_path in image_paths:\n",
    "        process_image(output_dir,image_path)\n",
    "    \n",
    "    print(f\"Just iteration : Processing completed in {time.time() - start_time} seconds\")"
   ]
  },
  {
   "cell_type": "markdown",
   "metadata": {},
   "source": [
    "<h4>Main with concurrence</h4>"
   ]
  },
  {
   "cell_type": "code",
   "execution_count": 20,
   "metadata": {},
   "outputs": [],
   "source": [
    "def main_with_concurrence() :\n",
    "\n",
    " image_paths = check_diretory()\n",
    " \n",
    " start_time = time.time()\n",
    "\n",
    " print(\"Generating images ...\")\n",
    "\n",
    " # Use ThreadPoolExecutor to parallelize image processing\n",
    " with ThreadPoolExecutor(max_workers=os.cpu_count()) as executor:\n",
    "    executor.map(lambda image_path: process_image(output_dir,image_path), image_paths)\n",
    "\n",
    " end_time = time.time()\n",
    " print(f\"Concurrence : Processing completed in {end_time - start_time} seconds\")"
   ]
  },
  {
   "cell_type": "markdown",
   "metadata": {},
   "source": [
    "<h4>Executing</h4>"
   ]
  },
  {
   "cell_type": "code",
   "execution_count": 17,
   "metadata": {},
   "outputs": [
    {
     "name": "stdout",
     "output_type": "stream",
     "text": [
      "Generating images ...\n",
      "Just iteration : Processing completed in 49.974316120147705 seconds\n",
      "Generating images ...\n",
      "Concurrence : Processing completed in 11.669330835342407 seconds\n"
     ]
    }
   ],
   "source": [
    "main_without_concurrence()\n",
    "main_with_concurrence()"
   ]
  }
 ],
 "metadata": {
  "kernelspec": {
   "display_name": "Python 3",
   "language": "python",
   "name": "python3"
  },
  "language_info": {
   "codemirror_mode": {
    "name": "ipython",
    "version": 3
   },
   "file_extension": ".py",
   "mimetype": "text/x-python",
   "name": "python",
   "nbconvert_exporter": "python",
   "pygments_lexer": "ipython3",
   "version": "3.12.1"
  }
 },
 "nbformat": 4,
 "nbformat_minor": 2
}
